{
 "cells": [
  {
   "cell_type": "code",
   "execution_count": 1,
   "metadata": {},
   "outputs": [],
   "source": [
    "import pandas as pd\n",
    "import numpy as np\n",
    "import random as rd\n",
    "from sklearn.decomposition import PCA\n",
    "from sklearn.preprocessing import StandardScaler\n",
    "import matplotlib.pyplot as plt"
   ]
  },
  {
   "cell_type": "code",
   "execution_count": 2,
   "metadata": {},
   "outputs": [],
   "source": [
    "genes=['gene'+str(i) for i in range (1,101)]\n",
    "wt=['wt'+str(i) for i in range (1,6)]\n",
    "ko=['ko'+str(i) for i in range (1,6)]"
   ]
  },
  {
   "cell_type": "code",
   "execution_count": 3,
   "metadata": {},
   "outputs": [],
   "source": [
    "data=pd.DataFrame(columns=[*wt,*ko],index=genes)"
   ]
  },
  {
   "cell_type": "code",
   "execution_count": 4,
   "metadata": {},
   "outputs": [],
   "source": [
    "for gene in data.index:\n",
    "    data.loc[gene,'wt1':'wt5']=np.random.poisson(lam=rd.randrange(10,1000),size=5)\n",
    "    data.loc[gene,'ko1':'ko5']=np.random.poisson(lam=rd.randrange(10,1000),size=5)"
   ]
  },
  {
   "cell_type": "code",
   "execution_count": 5,
   "metadata": {},
   "outputs": [
    {
     "data": {
      "text/html": [
       "<div>\n",
       "<style scoped>\n",
       "    .dataframe tbody tr th:only-of-type {\n",
       "        vertical-align: middle;\n",
       "    }\n",
       "\n",
       "    .dataframe tbody tr th {\n",
       "        vertical-align: top;\n",
       "    }\n",
       "\n",
       "    .dataframe thead th {\n",
       "        text-align: right;\n",
       "    }\n",
       "</style>\n",
       "<table border=\"1\" class=\"dataframe\">\n",
       "  <thead>\n",
       "    <tr style=\"text-align: right;\">\n",
       "      <th></th>\n",
       "      <th>wt1</th>\n",
       "      <th>wt2</th>\n",
       "      <th>wt3</th>\n",
       "      <th>wt4</th>\n",
       "      <th>wt5</th>\n",
       "      <th>ko1</th>\n",
       "      <th>ko2</th>\n",
       "      <th>ko3</th>\n",
       "      <th>ko4</th>\n",
       "      <th>ko5</th>\n",
       "    </tr>\n",
       "  </thead>\n",
       "  <tbody>\n",
       "    <tr>\n",
       "      <th>gene1</th>\n",
       "      <td>604</td>\n",
       "      <td>612</td>\n",
       "      <td>608</td>\n",
       "      <td>625</td>\n",
       "      <td>640</td>\n",
       "      <td>687</td>\n",
       "      <td>658</td>\n",
       "      <td>723</td>\n",
       "      <td>685</td>\n",
       "      <td>642</td>\n",
       "    </tr>\n",
       "    <tr>\n",
       "      <th>gene2</th>\n",
       "      <td>305</td>\n",
       "      <td>313</td>\n",
       "      <td>320</td>\n",
       "      <td>293</td>\n",
       "      <td>338</td>\n",
       "      <td>133</td>\n",
       "      <td>115</td>\n",
       "      <td>130</td>\n",
       "      <td>122</td>\n",
       "      <td>139</td>\n",
       "    </tr>\n",
       "    <tr>\n",
       "      <th>gene3</th>\n",
       "      <td>419</td>\n",
       "      <td>459</td>\n",
       "      <td>390</td>\n",
       "      <td>432</td>\n",
       "      <td>409</td>\n",
       "      <td>817</td>\n",
       "      <td>818</td>\n",
       "      <td>823</td>\n",
       "      <td>850</td>\n",
       "      <td>754</td>\n",
       "    </tr>\n",
       "    <tr>\n",
       "      <th>gene4</th>\n",
       "      <td>276</td>\n",
       "      <td>303</td>\n",
       "      <td>303</td>\n",
       "      <td>286</td>\n",
       "      <td>305</td>\n",
       "      <td>689</td>\n",
       "      <td>664</td>\n",
       "      <td>729</td>\n",
       "      <td>704</td>\n",
       "      <td>714</td>\n",
       "    </tr>\n",
       "    <tr>\n",
       "      <th>gene5</th>\n",
       "      <td>500</td>\n",
       "      <td>461</td>\n",
       "      <td>472</td>\n",
       "      <td>498</td>\n",
       "      <td>477</td>\n",
       "      <td>282</td>\n",
       "      <td>294</td>\n",
       "      <td>281</td>\n",
       "      <td>279</td>\n",
       "      <td>284</td>\n",
       "    </tr>\n",
       "  </tbody>\n",
       "</table>\n",
       "</div>"
      ],
      "text/plain": [
       "       wt1  wt2  wt3  wt4  wt5  ko1  ko2  ko3  ko4  ko5\n",
       "gene1  604  612  608  625  640  687  658  723  685  642\n",
       "gene2  305  313  320  293  338  133  115  130  122  139\n",
       "gene3  419  459  390  432  409  817  818  823  850  754\n",
       "gene4  276  303  303  286  305  689  664  729  704  714\n",
       "gene5  500  461  472  498  477  282  294  281  279  284"
      ]
     },
     "execution_count": 5,
     "metadata": {},
     "output_type": "execute_result"
    }
   ],
   "source": [
    "data.head()"
   ]
  },
  {
   "cell_type": "code",
   "execution_count": 6,
   "metadata": {},
   "outputs": [
    {
     "data": {
      "text/plain": [
       "(100, 10)"
      ]
     },
     "execution_count": 6,
     "metadata": {},
     "output_type": "execute_result"
    }
   ],
   "source": [
    "data.shape"
   ]
  },
  {
   "cell_type": "code",
   "execution_count": 7,
   "metadata": {},
   "outputs": [],
   "source": [
    "scaled_data=StandardScaler().fit_transform(data.T)"
   ]
  },
  {
   "cell_type": "code",
   "execution_count": 8,
   "metadata": {},
   "outputs": [],
   "source": [
    "pca=PCA()\n",
    "pca.fit(scaled_data)\n",
    "pca_data=pca.transform(scaled_data)"
   ]
  },
  {
   "cell_type": "code",
   "execution_count": 9,
   "metadata": {},
   "outputs": [],
   "source": [
    "per_var=np.round(pca.explained_variance_ratio_*100,decimals=1)\n",
    "labels=['PC'+str(i) for i in range (1,len(per_var)+1)]"
   ]
  },
  {
   "cell_type": "code",
   "execution_count": 10,
   "metadata": {},
   "outputs": [
    {
     "data": {
      "image/png": "[encoded data removed]",
      "text/plain": [
       "<Figure size 432x288 with 1 Axes>"
      ]
     },
     "metadata": {
      "needs_background": "light"
     },
     "output_type": "display_data"
    }
   ],
   "source": [
    "# Scree plot\n",
    "plt.bar(x=range(1,len(per_var)+1),height=per_var,tick_label=labels)\n",
    "plt.xlabel('Principal Component')\n",
    "plt.ylabel('Percentage of Explained Variance')\n",
    "plt.title('Scree Plot')\n",
    "plt.show()"
   ]
  },
  {
   "cell_type": "code",
   "execution_count": 11,
   "metadata": {},
   "outputs": [
    {
     "data": {
      "text/html": [
       "<div>\n",
       "<style scoped>\n",
       "    .dataframe tbody tr th:only-of-type {\n",
       "        vertical-align: middle;\n",
       "    }\n",
       "\n",
       "    .dataframe tbody tr th {\n",
       "        vertical-align: top;\n",
       "    }\n",
       "\n",
       "    .dataframe thead th {\n",
       "        text-align: right;\n",
       "    }\n",
       "</style>\n",
       "<table border=\"1\" class=\"dataframe\">\n",
       "  <thead>\n",
       "    <tr style=\"text-align: right;\">\n",
       "      <th></th>\n",
       "      <th>PC1</th>\n",
       "      <th>PC2</th>\n",
       "      <th>PC3</th>\n",
       "      <th>PC4</th>\n",
       "      <th>PC5</th>\n",
       "      <th>PC6</th>\n",
       "      <th>PC7</th>\n",
       "      <th>PC8</th>\n",
       "      <th>PC9</th>\n",
       "      <th>PC10</th>\n",
       "    </tr>\n",
       "  </thead>\n",
       "  <tbody>\n",
       "    <tr>\n",
       "      <th>wt1</th>\n",
       "      <td>-9.734085</td>\n",
       "      <td>0.749186</td>\n",
       "      <td>1.339231</td>\n",
       "      <td>2.319141</td>\n",
       "      <td>-2.035655</td>\n",
       "      <td>-0.247609</td>\n",
       "      <td>-0.616067</td>\n",
       "      <td>0.375957</td>\n",
       "      <td>-0.543025</td>\n",
       "      <td>6.661338e-16</td>\n",
       "    </tr>\n",
       "    <tr>\n",
       "      <th>wt2</th>\n",
       "      <td>-9.158774</td>\n",
       "      <td>-1.509076</td>\n",
       "      <td>0.118535</td>\n",
       "      <td>-1.828563</td>\n",
       "      <td>-2.045016</td>\n",
       "      <td>-0.018905</td>\n",
       "      <td>1.209772</td>\n",
       "      <td>-0.030996</td>\n",
       "      <td>0.735580</td>\n",
       "      <td>6.938894e-16</td>\n",
       "    </tr>\n",
       "    <tr>\n",
       "      <th>wt3</th>\n",
       "      <td>-9.335521</td>\n",
       "      <td>2.367738</td>\n",
       "      <td>-1.215644</td>\n",
       "      <td>-0.040028</td>\n",
       "      <td>1.317823</td>\n",
       "      <td>0.039317</td>\n",
       "      <td>-0.657404</td>\n",
       "      <td>0.796739</td>\n",
       "      <td>1.038441</td>\n",
       "      <td>2.248202e-15</td>\n",
       "    </tr>\n",
       "    <tr>\n",
       "      <th>wt4</th>\n",
       "      <td>-9.470725</td>\n",
       "      <td>-1.616106</td>\n",
       "      <td>0.922021</td>\n",
       "      <td>0.463201</td>\n",
       "      <td>2.338493</td>\n",
       "      <td>-1.499188</td>\n",
       "      <td>0.921237</td>\n",
       "      <td>-0.181294</td>\n",
       "      <td>-0.410241</td>\n",
       "      <td>-1.915135e-15</td>\n",
       "    </tr>\n",
       "    <tr>\n",
       "      <th>wt5</th>\n",
       "      <td>-9.283628</td>\n",
       "      <td>0.061721</td>\n",
       "      <td>-1.167845</td>\n",
       "      <td>-1.059874</td>\n",
       "      <td>0.425529</td>\n",
       "      <td>1.715307</td>\n",
       "      <td>-0.841271</td>\n",
       "      <td>-0.954022</td>\n",
       "      <td>-0.827425</td>\n",
       "      <td>1.110223e-15</td>\n",
       "    </tr>\n",
       "    <tr>\n",
       "      <th>ko1</th>\n",
       "      <td>9.342862</td>\n",
       "      <td>-2.174089</td>\n",
       "      <td>-1.265863</td>\n",
       "      <td>0.115385</td>\n",
       "      <td>0.221505</td>\n",
       "      <td>0.940823</td>\n",
       "      <td>0.124292</td>\n",
       "      <td>1.461239</td>\n",
       "      <td>-0.472047</td>\n",
       "      <td>-9.436896e-16</td>\n",
       "    </tr>\n",
       "    <tr>\n",
       "      <th>ko2</th>\n",
       "      <td>9.845044</td>\n",
       "      <td>2.890852</td>\n",
       "      <td>0.115107</td>\n",
       "      <td>-1.718889</td>\n",
       "      <td>-0.395228</td>\n",
       "      <td>-1.135028</td>\n",
       "      <td>0.601070</td>\n",
       "      <td>0.156860</td>\n",
       "      <td>-0.789104</td>\n",
       "      <td>1.387779e-15</td>\n",
       "    </tr>\n",
       "    <tr>\n",
       "      <th>ko3</th>\n",
       "      <td>9.127450</td>\n",
       "      <td>0.953268</td>\n",
       "      <td>-0.715823</td>\n",
       "      <td>1.994032</td>\n",
       "      <td>0.131010</td>\n",
       "      <td>1.008002</td>\n",
       "      <td>1.648301</td>\n",
       "      <td>-0.780879</td>\n",
       "      <td>0.407355</td>\n",
       "      <td>6.661338e-16</td>\n",
       "    </tr>\n",
       "    <tr>\n",
       "      <th>ko4</th>\n",
       "      <td>9.412082</td>\n",
       "      <td>-0.351508</td>\n",
       "      <td>3.703709</td>\n",
       "      <td>-0.592262</td>\n",
       "      <td>0.615347</td>\n",
       "      <td>0.783540</td>\n",
       "      <td>-0.914391</td>\n",
       "      <td>-0.135854</td>\n",
       "      <td>0.483435</td>\n",
       "      <td>-3.608225e-16</td>\n",
       "    </tr>\n",
       "    <tr>\n",
       "      <th>ko5</th>\n",
       "      <td>9.255296</td>\n",
       "      <td>-1.371986</td>\n",
       "      <td>-1.833427</td>\n",
       "      <td>0.347857</td>\n",
       "      <td>-0.573809</td>\n",
       "      <td>-1.586258</td>\n",
       "      <td>-1.475538</td>\n",
       "      <td>-0.707750</td>\n",
       "      <td>0.377032</td>\n",
       "      <td>5.551115e-17</td>\n",
       "    </tr>\n",
       "  </tbody>\n",
       "</table>\n",
       "</div>"
      ],
      "text/plain": [
       "          PC1       PC2       PC3       PC4       PC5       PC6       PC7  \\\n",
       "wt1 -9.734085  0.749186  1.339231  2.319141 -2.035655 -0.247609 -0.616067   \n",
       "wt2 -9.158774 -1.509076  0.118535 -1.828563 -2.045016 -0.018905  1.209772   \n",
       "wt3 -9.335521  2.367738 -1.215644 -0.040028  1.317823  0.039317 -0.657404   \n",
       "wt4 -9.470725 -1.616106  0.922021  0.463201  2.338493 -1.499188  0.921237   \n",
       "wt5 -9.283628  0.061721 -1.167845 -1.059874  0.425529  1.715307 -0.841271   \n",
       "ko1  9.342862 -2.174089 -1.265863  0.115385  0.221505  0.940823  0.124292   \n",
       "ko2  9.845044  2.890852  0.115107 -1.718889 -0.395228 -1.135028  0.601070   \n",
       "ko3  9.127450  0.953268 -0.715823  1.994032  0.131010  1.008002  1.648301   \n",
       "ko4  9.412082 -0.351508  3.703709 -0.592262  0.615347  0.783540 -0.914391   \n",
       "ko5  9.255296 -1.371986 -1.833427  0.347857 -0.573809 -1.586258 -1.475538   \n",
       "\n",
       "          PC8       PC9          PC10  \n",
       "wt1  0.375957 -0.543025  6.661338e-16  \n",
       "wt2 -0.030996  0.735580  6.938894e-16  \n",
       "wt3  0.796739  1.038441  2.248202e-15  \n",
       "wt4 -0.181294 -0.410241 -1.915135e-15  \n",
       "wt5 -0.954022 -0.827425  1.110223e-15  \n",
       "ko1  1.461239 -0.472047 -9.436896e-16  \n",
       "ko2  0.156860 -0.789104  1.387779e-15  \n",
       "ko3 -0.780879  0.407355  6.661338e-16  \n",
       "ko4 -0.135854  0.483435 -3.608225e-16  \n",
       "ko5 -0.707750  0.377032  5.551115e-17  "
      ]
     },
     "execution_count": 11,
     "metadata": {},
     "output_type": "execute_result"
    }
   ],
   "source": [
    "pca_df=pd.DataFrame(pca_data,index=[*wt,*ko],columns=labels)\n",
    "pca_df"
   ]
  },
  {
   "cell_type": "code",
   "execution_count": 12,
   "metadata": {},
   "outputs": [
    {
     "data": {
      "image/png": "[encoded data removed]",
      "text/plain": [
       "<Figure size 432x288 with 1 Axes>"
      ]
     },
     "metadata": {
      "needs_background": "light"
     },
     "output_type": "display_data"
    }
   ],
   "source": [
    "# scatter plot\n",
    "plt.scatter(pca_df.PC1,pca_df.PC2)\n",
    "plt.title('My PCA Graph')\n",
    "plt.xlabel('PC1-{0}%'.format(per_var[0]))\n",
    "plt.ylabel('PV2-{0}%'.format(per_var[1]))\n",
    "for sample in pca_df.index:\n",
    "    plt.annotate(sample,(pca_df.PC1.loc[sample],pca_df.PC2.loc[sample]))"
   ]
  },
  {
   "cell_type": "code",
   "execution_count": 13,
   "metadata": {},
   "outputs": [],
   "source": [
    "loading_scores=pd.Series(pca.components_[0],index=genes)\n",
    "sorted_loading_scores=loading_scores.abs().sort_values(ascending=False)"
   ]
  },
  {
   "cell_type": "code",
   "execution_count": 14,
   "metadata": {},
   "outputs": [
    {
     "data": {
      "text/plain": [
       "gene22    0.106295\n",
       "gene50    0.106291\n",
       "gene27   -0.106287\n",
       "gene19    0.106284\n",
       "gene25   -0.106284\n",
       "gene14    0.106281\n",
       "gene81   -0.106276\n",
       "gene36    0.106269\n",
       "gene58    0.106265\n",
       "gene54    0.106262\n",
       "dtype: float64"
      ]
     },
     "execution_count": 14,
     "metadata": {},
     "output_type": "execute_result"
    }
   ],
   "source": [
    "top_10_genes=sorted_loading_scores[0:10].index.values\n",
    "loading_scores[top_10_genes]"
   ]
  }
 ],
 "metadata": {
  "kernelspec": {
   "display_name": "Python 3",
   "language": "python",
   "name": "python3"
  },
  "language_info": {
   "codemirror_mode": {
    "name": "ipython",
    "version": 3
   },
   "file_extension": ".py",
   "mimetype": "text/x-python",
   "name": "python",
   "nbconvert_exporter": "python",
   "pygments_lexer": "ipython3",
   "version": "3.7.3"
  }
 },
 "nbformat": 4,
 "nbformat_minor": 2
}
